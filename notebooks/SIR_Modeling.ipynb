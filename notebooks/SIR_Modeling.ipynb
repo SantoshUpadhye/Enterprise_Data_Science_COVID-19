{
 "cells": [
  {
   "cell_type": "code",
   "execution_count": 33,
   "metadata": {},
   "outputs": [],
   "source": [
    "import pandas as pd\n",
    "import numpy as np\n",
    "\n",
    "from datetime import datetime\n",
    "import pandas as pd \n",
    "\n",
    "#from scipy import optimize\n",
    "#from scipy import integrate\n",
    "\n",
    "%matplotlib inline\n",
    "import matplotlib as mpl\n",
    "import matplotlib.pyplot as plt\n",
    "\n",
    "import seaborn as sns\n",
    "\n",
    "\n",
    "sns.set(style=\"darkgrid\")\n",
    "\n",
    "mpl.rcParams['figure.figsize'] = (16, 9)\n",
    "pd.set_option('display.max_rows', 500)"
   ]
  },
  {
   "cell_type": "code",
   "execution_count": 34,
   "metadata": {},
   "outputs": [
    {
     "data": {
      "text/html": [
       "<div>\n",
       "<style scoped>\n",
       "    .dataframe tbody tr th:only-of-type {\n",
       "        vertical-align: middle;\n",
       "    }\n",
       "\n",
       "    .dataframe tbody tr th {\n",
       "        vertical-align: top;\n",
       "    }\n",
       "\n",
       "    .dataframe thead th {\n",
       "        text-align: right;\n",
       "    }\n",
       "</style>\n",
       "<table border=\"1\" class=\"dataframe\">\n",
       "  <thead>\n",
       "    <tr style=\"text-align: right;\">\n",
       "      <th></th>\n",
       "      <th>date</th>\n",
       "      <th>Albania</th>\n",
       "      <th>India</th>\n",
       "      <th>Italy</th>\n",
       "      <th>Germany</th>\n",
       "      <th>US</th>\n",
       "    </tr>\n",
       "  </thead>\n",
       "  <tbody>\n",
       "    <tr>\n",
       "      <th>231</th>\n",
       "      <td>2020-09-09</td>\n",
       "      <td>10704</td>\n",
       "      <td>4465863</td>\n",
       "      <td>281583</td>\n",
       "      <td>256433</td>\n",
       "      <td>6360212</td>\n",
       "    </tr>\n",
       "    <tr>\n",
       "      <th>232</th>\n",
       "      <td>2020-09-10</td>\n",
       "      <td>10860</td>\n",
       "      <td>4562414</td>\n",
       "      <td>283180</td>\n",
       "      <td>258149</td>\n",
       "      <td>6396100</td>\n",
       "    </tr>\n",
       "    <tr>\n",
       "      <th>233</th>\n",
       "      <td>2020-09-11</td>\n",
       "      <td>11021</td>\n",
       "      <td>4659984</td>\n",
       "      <td>284796</td>\n",
       "      <td>259735</td>\n",
       "      <td>6443652</td>\n",
       "    </tr>\n",
       "    <tr>\n",
       "      <th>234</th>\n",
       "      <td>2020-09-12</td>\n",
       "      <td>11185</td>\n",
       "      <td>4754356</td>\n",
       "      <td>286297</td>\n",
       "      <td>260817</td>\n",
       "      <td>6485123</td>\n",
       "    </tr>\n",
       "    <tr>\n",
       "      <th>235</th>\n",
       "      <td>2020-09-13</td>\n",
       "      <td>11353</td>\n",
       "      <td>4846427</td>\n",
       "      <td>287753</td>\n",
       "      <td>261737</td>\n",
       "      <td>6519573</td>\n",
       "    </tr>\n",
       "  </tbody>\n",
       "</table>\n",
       "</div>"
      ],
      "text/plain": [
       "           date  Albania    India   Italy  Germany       US\n",
       "231  2020-09-09    10704  4465863  281583   256433  6360212\n",
       "232  2020-09-10    10860  4562414  283180   258149  6396100\n",
       "233  2020-09-11    11021  4659984  284796   259735  6443652\n",
       "234  2020-09-12    11185  4754356  286297   260817  6485123\n",
       "235  2020-09-13    11353  4846427  287753   261737  6519573"
      ]
     },
     "execution_count": 34,
     "metadata": {},
     "output_type": "execute_result"
    }
   ],
   "source": [
    "# try to parse the dates right at the beginning \n",
    "# it works out of the box if the date was stored ISO YYYY-MM-DD format\n",
    "\n",
    "df_analyse=pd.read_csv('C:/ProgramData/Anaconda3/eps_covid19/data/processed/COVID_small_flat_table.csv',sep=';')  \n",
    "df_analyse.sort_values('date',ascending=True).tail()"
   ]
  },
  {
   "cell_type": "code",
   "execution_count": 35,
   "metadata": {},
   "outputs": [
    {
     "data": {
      "text/plain": [
       "103374"
      ]
     },
     "execution_count": 35,
     "metadata": {},
     "output_type": "execute_result"
    }
   ],
   "source": [
    "df_analyse.Germany[75]"
   ]
  },
  {
   "cell_type": "code",
   "execution_count": 36,
   "metadata": {},
   "outputs": [],
   "source": [
    "# set some basic parameters\n",
    "# beta/gamma is denoted as  'basic reproduction number'\n",
    "\n",
    "N0=83783942 #1000000 #max susceptible population\n",
    "beta=0.4   # infection spread dynamics\n",
    "gamma=0.1  # recovery rate\n",
    "\n",
    "\n",
    "# condition I0+S0+R0=N0\n",
    "I0=df_analyse.Germany[75]\n",
    "S0=N0-I0\n",
    "R0=0"
   ]
  },
  {
   "cell_type": "code",
   "execution_count": 37,
   "metadata": {},
   "outputs": [],
   "source": [
    "def SIR_model(SIR,beta,gamma):\n",
    "    ''' Simple SIR model\n",
    "        S: susceptible population\n",
    "        I: infected people\n",
    "        R: recovered people\n",
    "        beta: \n",
    "        \n",
    "        overall condition is that the sum of changes (differnces) sum up to 0\n",
    "        dS+dI+dR=0\n",
    "        S+I+R= N (constant size of population)\n",
    "    \n",
    "    '''\n",
    "    \n",
    "    S,I,R=SIR\n",
    "    dS_dt=-beta*S*I/N0          #S*I is the \n",
    "    dI_dt=beta*S*I/N0-gamma*I\n",
    "    dR_dt=gamma*I\n",
    "    return([dS_dt,dI_dt,dR_dt])"
   ]
  },
  {
   "cell_type": "code",
   "execution_count": 38,
   "metadata": {},
   "outputs": [
    {
     "data": {
      "text/plain": [
       "array([83680568,   103374,        0], dtype=int64)"
      ]
     },
     "execution_count": 38,
     "metadata": {},
     "output_type": "execute_result"
    }
   ],
   "source": [
    "SIR=np.array([S0,I0,R0])\n",
    "SIR"
   ]
  },
  {
   "cell_type": "code",
   "execution_count": 39,
   "metadata": {},
   "outputs": [],
   "source": [
    "propagation_rates=pd.DataFrame(columns={'susceptible':S0,\n",
    "                                        'infected':I0,\n",
    "                                        'recovered':R0})"
   ]
  },
  {
   "cell_type": "code",
   "execution_count": 40,
   "metadata": {},
   "outputs": [
    {
     "data": {
      "text/html": [
       "<div>\n",
       "<style scoped>\n",
       "    .dataframe tbody tr th:only-of-type {\n",
       "        vertical-align: middle;\n",
       "    }\n",
       "\n",
       "    .dataframe tbody tr th {\n",
       "        vertical-align: top;\n",
       "    }\n",
       "\n",
       "    .dataframe thead th {\n",
       "        text-align: right;\n",
       "    }\n",
       "</style>\n",
       "<table border=\"1\" class=\"dataframe\">\n",
       "  <thead>\n",
       "    <tr style=\"text-align: right;\">\n",
       "      <th></th>\n",
       "      <th>susceptible</th>\n",
       "      <th>infected</th>\n",
       "      <th>recovered</th>\n",
       "    </tr>\n",
       "  </thead>\n",
       "  <tbody>\n",
       "  </tbody>\n",
       "</table>\n",
       "</div>"
      ],
      "text/plain": [
       "Empty DataFrame\n",
       "Columns: [susceptible, infected, recovered]\n",
       "Index: []"
      ]
     },
     "execution_count": 40,
     "metadata": {},
     "output_type": "execute_result"
    }
   ],
   "source": [
    "propagation_rates"
   ]
  },
  {
   "cell_type": "markdown",
   "metadata": {},
   "source": [
    "## Simulative approach to calculate SIR curves"
   ]
  },
  {
   "cell_type": "code",
   "execution_count": 41,
   "metadata": {},
   "outputs": [],
   "source": [
    "SIR=np.array([S0,I0,R0])\n",
    "propagation_rates=pd.DataFrame(columns={'susceptible':S0,\n",
    "                                        'infected':I0,\n",
    "                                        'recovered':R0})\n",
    "\n",
    "\n",
    "\n",
    "for each_t in np.arange(100):\n",
    "   \n",
    "    new_delta_vec=SIR_model(SIR,beta,gamma)\n",
    "   \n",
    "    SIR=SIR+new_delta_vec\n",
    "    \n",
    "    propagation_rates=propagation_rates.append({'susceptible':SIR[0],\n",
    "                                                'infected':SIR[1],\n",
    "                                                'recovered':SIR[2]}, ignore_index=True)"
   ]
  },
  {
   "cell_type": "code",
   "execution_count": 42,
   "metadata": {},
   "outputs": [
    {
     "data": {
      "text/plain": [
       "array([1.29186004e+06, 5.62027622e+04, 8.24358792e+07])"
      ]
     },
     "execution_count": 42,
     "metadata": {},
     "output_type": "execute_result"
    }
   ],
   "source": [
    "SIR"
   ]
  },
  {
   "cell_type": "code",
   "execution_count": 43,
   "metadata": {},
   "outputs": [
    {
     "data": {
      "text/html": [
       "<div>\n",
       "<style scoped>\n",
       "    .dataframe tbody tr th:only-of-type {\n",
       "        vertical-align: middle;\n",
       "    }\n",
       "\n",
       "    .dataframe tbody tr th {\n",
       "        vertical-align: top;\n",
       "    }\n",
       "\n",
       "    .dataframe thead th {\n",
       "        text-align: right;\n",
       "    }\n",
       "</style>\n",
       "<table border=\"1\" class=\"dataframe\">\n",
       "  <thead>\n",
       "    <tr style=\"text-align: right;\">\n",
       "      <th></th>\n",
       "      <th>susceptible</th>\n",
       "      <th>infected</th>\n",
       "      <th>recovered</th>\n",
       "    </tr>\n",
       "  </thead>\n",
       "  <tbody>\n",
       "    <tr>\n",
       "      <th>0</th>\n",
       "      <td>8.363927e+07</td>\n",
       "      <td>134335.182186</td>\n",
       "      <td>10337.400000</td>\n",
       "    </tr>\n",
       "    <tr>\n",
       "      <th>1</th>\n",
       "      <td>8.358563e+07</td>\n",
       "      <td>174542.952391</td>\n",
       "      <td>23770.918219</td>\n",
       "    </tr>\n",
       "    <tr>\n",
       "      <th>2</th>\n",
       "      <td>8.351598e+07</td>\n",
       "      <td>226740.583108</td>\n",
       "      <td>41225.213458</td>\n",
       "    </tr>\n",
       "    <tr>\n",
       "      <th>3</th>\n",
       "      <td>8.342557e+07</td>\n",
       "      <td>294472.684694</td>\n",
       "      <td>63899.271768</td>\n",
       "    </tr>\n",
       "    <tr>\n",
       "      <th>4</th>\n",
       "      <td>8.330828e+07</td>\n",
       "      <td>382310.666818</td>\n",
       "      <td>93346.540238</td>\n",
       "    </tr>\n",
       "  </tbody>\n",
       "</table>\n",
       "</div>"
      ],
      "text/plain": [
       "    susceptible       infected     recovered\n",
       "0  8.363927e+07  134335.182186  10337.400000\n",
       "1  8.358563e+07  174542.952391  23770.918219\n",
       "2  8.351598e+07  226740.583108  41225.213458\n",
       "3  8.342557e+07  294472.684694  63899.271768\n",
       "4  8.330828e+07  382310.666818  93346.540238"
      ]
     },
     "execution_count": 43,
     "metadata": {},
     "output_type": "execute_result"
    }
   ],
   "source": [
    "propagation_rates.head()"
   ]
  },
  {
   "cell_type": "code",
   "execution_count": 44,
   "metadata": {},
   "outputs": [
    {
     "data": {
      "image/png": "[encoded data removed]",
      "text/plain": [
       "<Figure size 1152x648 with 1 Axes>"
      ]
     },
     "metadata": {},
     "output_type": "display_data"
    }
   ],
   "source": [
    "fig, ax1 = plt.subplots(1, 1)\n",
    "\n",
    "ax1.plot(propagation_rates.index,propagation_rates.infected,label='infected',color='k')\n",
    "ax1.plot(propagation_rates.index,propagation_rates.recovered,label='recovered')\n",
    "ax1.plot(propagation_rates.index,propagation_rates.susceptible,label='susceptible')\n",
    "\n",
    "ax1.set_ylim(10, 100000000)\n",
    "ax1.set_yscale('linear')\n",
    "ax1.set_title('Scenario SIR simulations  (demonstration purposes only)',size=16)\n",
    "ax1.set_xlabel('time in days',size=16)\n",
    "ax1.legend(loc='best',\n",
    "           prop={'size': 16});"
   ]
  },
  {
   "cell_type": "markdown",
   "metadata": {},
   "source": [
    "## Fitting the parameters of SIR model"
   ]
  },
  {
   "cell_type": "code",
   "execution_count": 45,
   "metadata": {},
   "outputs": [],
   "source": [
    "from scipy import optimize\n",
    "from scipy import integrate\n",
    "\n",
    "ydata = np.array(df_analyse.Germany[75:])\n",
    "t=np.arange(len(ydata))"
   ]
  },
  {
   "cell_type": "code",
   "execution_count": 46,
   "metadata": {},
   "outputs": [
    {
     "data": {
      "text/plain": [
       "array([103374, 107663, 113296, 118181, 122171, 124908, 127854, 130072,\n",
       "       131359, 134753, 137698, 141397, 143342, 145184, 147065, 148291,\n",
       "       150648, 153129, 154999, 156513, 157770, 158758, 159912, 161539,\n",
       "       163009, 164077, 164967, 165664, 166152, 167007, 168162, 169430,\n",
       "       170588, 171324, 171879, 172576, 173171, 174098, 174478, 175233,\n",
       "       175752, 176369, 176551, 177778, 178473, 179021, 179710, 179986,\n",
       "       180328, 180600, 181200, 181524, 182196, 182922, 183189, 183410,\n",
       "       183594, 183879, 184121, 184472, 184924, 185450, 185750, 186109,\n",
       "       186506, 186522, 186691, 187226, 187267, 187518, 187682, 188252,\n",
       "       188604, 189817, 190299, 190670, 191272, 191768, 192480, 192871,\n",
       "       193371, 194036, 194458, 194693, 195042, 195418, 195893, 196370,\n",
       "       196780, 197198, 197523, 198064, 198343, 198699, 199001, 199332,\n",
       "       199709, 199919, 200180, 200456, 200890, 201450, 202045, 202426,\n",
       "       202735, 203325, 203717, 204276, 204881, 205623, 206278, 206667,\n",
       "       207112, 207707, 208546, 209535, 210399, 211005, 211220, 212111,\n",
       "       212828, 214113, 215039, 216196, 216903, 217288, 218508, 219540,\n",
       "       220859, 222281, 223791, 224488, 225007, 226700, 228120, 229706,\n",
       "       231292, 233029, 233861, 234494, 236122, 237583, 239010, 240571,\n",
       "       242126, 242835, 243305, 244802, 246015, 247411, 248840, 250283,\n",
       "       251058, 251728, 253626, 254957, 256433, 258149, 259735, 260817,\n",
       "       261737], dtype=int64)"
      ]
     },
     "execution_count": 46,
     "metadata": {},
     "output_type": "execute_result"
    }
   ],
   "source": [
    "ydata"
   ]
  },
  {
   "cell_type": "code",
   "execution_count": 47,
   "metadata": {},
   "outputs": [
    {
     "data": {
      "text/plain": [
       "array([  0,   1,   2,   3,   4,   5,   6,   7,   8,   9,  10,  11,  12,\n",
       "        13,  14,  15,  16,  17,  18,  19,  20,  21,  22,  23,  24,  25,\n",
       "        26,  27,  28,  29,  30,  31,  32,  33,  34,  35,  36,  37,  38,\n",
       "        39,  40,  41,  42,  43,  44,  45,  46,  47,  48,  49,  50,  51,\n",
       "        52,  53,  54,  55,  56,  57,  58,  59,  60,  61,  62,  63,  64,\n",
       "        65,  66,  67,  68,  69,  70,  71,  72,  73,  74,  75,  76,  77,\n",
       "        78,  79,  80,  81,  82,  83,  84,  85,  86,  87,  88,  89,  90,\n",
       "        91,  92,  93,  94,  95,  96,  97,  98,  99, 100, 101, 102, 103,\n",
       "       104, 105, 106, 107, 108, 109, 110, 111, 112, 113, 114, 115, 116,\n",
       "       117, 118, 119, 120, 121, 122, 123, 124, 125, 126, 127, 128, 129,\n",
       "       130, 131, 132, 133, 134, 135, 136, 137, 138, 139, 140, 141, 142,\n",
       "       143, 144, 145, 146, 147, 148, 149, 150, 151, 152, 153, 154, 155,\n",
       "       156, 157, 158, 159, 160])"
      ]
     },
     "execution_count": 47,
     "metadata": {},
     "output_type": "execute_result"
    }
   ],
   "source": [
    "t"
   ]
  },
  {
   "cell_type": "code",
   "execution_count": 48,
   "metadata": {},
   "outputs": [
    {
     "data": {
      "text/plain": [
       "0.4"
      ]
     },
     "execution_count": 48,
     "metadata": {},
     "output_type": "execute_result"
    }
   ],
   "source": [
    "# ensure re-initialization \n",
    "I0=ydata[0]\n",
    "S0=N0-I0\n",
    "R0=0\n",
    "beta"
   ]
  },
  {
   "cell_type": "code",
   "execution_count": 49,
   "metadata": {},
   "outputs": [
    {
     "data": {
      "text/plain": [
       "103374"
      ]
     },
     "execution_count": 49,
     "metadata": {},
     "output_type": "execute_result"
    }
   ],
   "source": [
    "I0"
   ]
  },
  {
   "cell_type": "code",
   "execution_count": 50,
   "metadata": {},
   "outputs": [],
   "source": [
    "def SIR_model_t(SIR,t,beta,gamma):\n",
    "    ''' Simple SIR model\n",
    "        S: susceptible population\n",
    "        t: time step, mandatory for integral.odeint\n",
    "        I: infected people\n",
    "        R: recovered people\n",
    "        beta: \n",
    "        \n",
    "        overall condition is that the sum of changes (differnces) sum up to 0\n",
    "        dS+dI+dR=0\n",
    "        S+I+R= N (constant size of population)\n",
    "    \n",
    "    '''\n",
    "    \n",
    "    S,I,R=SIR\n",
    "    dS_dt=-beta*S*I/N0          #S*I is the \n",
    "    dI_dt=beta*S*I/N0-gamma*I\n",
    "    dR_dt=gamma*I\n",
    "    return dS_dt,dI_dt,dR_dt"
   ]
  },
  {
   "cell_type": "code",
   "execution_count": 51,
   "metadata": {},
   "outputs": [],
   "source": [
    "def fit_odeint(t, beta, gamma): #t==x?\n",
    "    '''\n",
    "    helper function for the integration\n",
    "    '''\n",
    "    return integrate.odeint(SIR_model_t, (S0, I0, R0), t, args=(beta, gamma))[:,1] # we only would like to get dI"
   ]
  },
  {
   "cell_type": "code",
   "execution_count": 52,
   "metadata": {},
   "outputs": [
    {
     "data": {
      "text/plain": [
       "array([1.03374000e+05, 1.39456227e+05, 1.88082416e+05, 2.53572263e+05,\n",
       "       3.41699406e+05, 4.60153461e+05, 6.19126597e+05, 8.32039681e+05,\n",
       "       1.11640756e+06, 1.49480900e+06, 1.99586138e+06, 2.65498745e+06,\n",
       "       3.51458509e+06, 4.62297092e+06, 6.03120847e+06, 7.78679006e+06,\n",
       "       9.92339659e+06, 1.24469955e+07, 1.53205979e+07, 1.84526563e+07,\n",
       "       2.16957767e+07, 2.48608617e+07, 2.77460403e+07, 3.01722374e+07,\n",
       "       3.20131488e+07, 3.32100361e+07, 3.37692241e+07, 3.37471684e+07,\n",
       "       3.32307267e+07, 3.23189387e+07, 3.11095508e+07, 2.96908380e+07,\n",
       "       2.81377868e+07, 2.65112486e+07, 2.48588191e+07, 2.32165324e+07,\n",
       "       2.16108037e+07, 2.00603014e+07, 1.85776063e+07, 1.71706064e+07,\n",
       "       1.58436330e+07, 1.45983654e+07, 1.34345392e+07, 1.23504963e+07,\n",
       "       1.13436054e+07, 1.04105829e+07, 9.54773502e+06, 8.75113839e+06,\n",
       "       8.01677436e+06, 7.34062692e+06, 6.71875319e+06, 6.14733281e+06,\n",
       "       5.62270147e+06, 5.14137237e+06, 4.70004863e+06, 4.29562895e+06,\n",
       "       3.92520839e+06, 3.58607547e+06, 3.27570676e+06, 2.99175968e+06,\n",
       "       2.73206417e+06, 2.49461365e+06, 2.27755561e+06, 2.07918210e+06,\n",
       "       1.89792034e+06, 1.73232350e+06, 1.58106182e+06, 1.44291415e+06,\n",
       "       1.31675983e+06, 1.20157108e+06, 1.09640585e+06, 1.00040107e+06,\n",
       "       9.12766366e+05, 8.32778262e+05, 7.59774723e+05, 6.93150134e+05,\n",
       "       6.32350655e+05, 5.76869921e+05, 5.26245079e+05, 4.80053138e+05,\n",
       "       4.37907606e+05, 3.99455406e+05, 3.64374029e+05, 3.32368934e+05,\n",
       "       3.03171154e+05, 2.76535103e+05, 2.52236568e+05, 2.30070867e+05,\n",
       "       2.09851165e+05, 1.91406928e+05, 1.74582515e+05, 1.59235883e+05,\n",
       "       1.45237411e+05, 1.32468815e+05, 1.20822165e+05, 1.10198981e+05,\n",
       "       1.00509409e+05, 9.16714711e+04, 8.36103744e+04, 7.62578850e+04,\n",
       "       6.95517539e+04, 6.34351934e+04, 5.78563997e+04, 5.27681159e+04,\n",
       "       4.81272339e+04, 4.38944308e+04, 4.00338372e+04, 3.65127344e+04,\n",
       "       3.33012775e+04, 3.03722442e+04, 2.77008039e+04, 2.52643079e+04,\n",
       "       2.30420982e+04, 2.10153323e+04, 1.91668240e+04, 1.74808977e+04,\n",
       "       1.59432560e+04, 1.45408585e+04, 1.32618111e+04, 1.20952655e+04,\n",
       "       1.10313275e+04, 1.00609727e+04, 9.17597018e+03, 8.36881306e+03,\n",
       "       7.63265449e+03, 6.96124972e+03, 6.34890326e+03, 5.79042048e+03,\n",
       "       5.28106360e+03, 4.81651158e+03, 4.39282334e+03, 4.00640452e+03,\n",
       "       3.65397684e+03, 3.33255037e+03, 3.03939819e+03, 2.77203320e+03,\n",
       "       2.52818710e+03, 2.30579106e+03, 2.10295826e+03, 1.91796785e+03,\n",
       "       1.74925031e+03, 1.59537421e+03, 1.45503402e+03, 1.32703906e+03,\n",
       "       1.21030337e+03, 1.10383652e+03, 1.00673521e+03, 9.18175580e+02,\n",
       "       8.37406263e+02, 7.63741970e+02, 6.96557699e+02, 6.35283427e+02,\n",
       "       5.79399270e+02, 5.28431080e+02, 4.81946413e+02, 4.39550870e+02,\n",
       "       4.00884744e+02, 3.65619969e+02, 3.33457339e+02, 3.04123967e+02,\n",
       "       2.77370972e+02])"
      ]
     },
     "execution_count": 52,
     "metadata": {},
     "output_type": "execute_result"
    }
   ],
   "source": [
    "# example curve of our differential equationa\n",
    "popt=[0.4,0.1]\n",
    "fit_odeint(t, *popt)"
   ]
  },
  {
   "cell_type": "code",
   "execution_count": 53,
   "metadata": {},
   "outputs": [],
   "source": [
    "# the resulting curve has to be fitted\n",
    "# free parameters are here beta and gamma"
   ]
  },
  {
   "cell_type": "code",
   "execution_count": 54,
   "metadata": {},
   "outputs": [
    {
     "name": "stdout",
     "output_type": "stream",
     "text": [
      "standard deviation errors :  [0.00553402 0.00528182]  start infect: 103374\n",
      "Optimal parameters: beta = 0.18163346079420142  and gamma =  0.17130679039738228\n"
     ]
    }
   ],
   "source": [
    "popt, pcov = optimize.curve_fit(fit_odeint, t, ydata)\n",
    "perr = np.sqrt(np.diag(pcov))\n",
    "    \n",
    "print('standard deviation errors : ',str(perr), ' start infect:',ydata[0])\n",
    "print(\"Optimal parameters: beta =\", popt[0], \" and gamma = \", popt[1])"
   ]
  },
  {
   "cell_type": "code",
   "execution_count": 55,
   "metadata": {},
   "outputs": [
    {
     "data": {
      "text/plain": [
       "array([0.18163346, 0.17130679])"
      ]
     },
     "execution_count": 55,
     "metadata": {},
     "output_type": "execute_result"
    }
   ],
   "source": [
    "popt"
   ]
  },
  {
   "cell_type": "code",
   "execution_count": 56,
   "metadata": {},
   "outputs": [
    {
     "data": {
      "text/plain": [
       "array([[3.06254314e-05, 2.92259504e-05],\n",
       "       [2.92259504e-05, 2.78976243e-05]])"
      ]
     },
     "execution_count": 56,
     "metadata": {},
     "output_type": "execute_result"
    }
   ],
   "source": [
    "pcov"
   ]
  },
  {
   "cell_type": "code",
   "execution_count": 57,
   "metadata": {},
   "outputs": [],
   "source": [
    "# get the final fitted curve\n",
    "fitted=fit_odeint(t, *popt)"
   ]
  },
  {
   "cell_type": "code",
   "execution_count": 58,
   "metadata": {},
   "outputs": [
    {
     "data": {
      "text/plain": [
       "array([103374.        , 104421.50634213, 105475.29664018, 106535.3042079 ,\n",
       "       107601.45938758, 108673.68951109, 109751.91886266, 110836.06863919,\n",
       "       111926.05691264, 113021.79859323, 114123.20540124, 115230.18583195,\n",
       "       116342.6451146 , 117460.48518332, 118583.60464767, 119711.89877195,\n",
       "       120845.25943423, 121983.57510131, 123126.73080277, 124274.60811632,\n",
       "       125427.08513903, 126584.03645985, 127745.3331416 , 128910.84270753,\n",
       "       130080.42913855, 131253.9528353 , 132431.27061134, 133612.2356821 ,\n",
       "       134796.69767438, 135984.5026042 , 137175.49286746, 138369.50723988,\n",
       "       139566.38088449, 140765.94536315, 141968.02861807, 143172.4549855 ,\n",
       "       144379.04520599, 145587.61646091, 146797.98235539, 148009.9529361 ,\n",
       "       149223.33471255, 150437.93067624, 151653.54035043, 152869.95984264,\n",
       "       154086.98180476, 155304.39549346, 156521.98680522, 157739.53831498,\n",
       "       158956.82936349, 160173.63606126, 161389.73132716, 162604.88495039,\n",
       "       163818.86364316, 165031.43110924, 166242.34813521, 167451.37260003,\n",
       "       168658.25955953, 169862.76131788, 171064.62750026, 172263.60515292,\n",
       "       173459.43881084, 174651.87056609, 175840.64016389, 177025.48509208,\n",
       "       178206.14067594, 179382.34018589, 180553.81492148, 181720.29431769,\n",
       "       182881.50605223, 184037.17615467, 185187.02911415, 186330.78799405,\n",
       "       187468.17455674, 188598.90938179, 189722.71199057, 190839.30096982,\n",
       "       191948.39406139, 193049.708346  , 194142.9603733 , 195227.86629267,\n",
       "       196304.14199508, 197371.50325791, 198429.66588452, 199478.34570795,\n",
       "       200517.25889818, 201546.12212168, 202564.65265882, 203572.56856117,\n",
       "       204569.58881157, 205555.43348051, 206529.82366349, 207492.48184347,\n",
       "       208443.13211871, 209381.50029112, 210307.31403309, 211220.30305645,\n",
       "       212120.199281  , 213006.73671912, 213879.65182867, 214738.68385305,\n",
       "       215583.57485831, 216414.06990191, 217229.91720286, 218030.8683131 ,\n",
       "       218816.67798478, 219587.10442962, 220341.90980897, 221080.86020262,\n",
       "       221803.72577113, 222510.28091849, 223200.30445528, 223873.57948179,\n",
       "       224529.89349221, 225169.0390194 , 225790.81353311, 226395.01958551,\n",
       "       226981.46495755, 227549.96280465, 228100.33156884, 228632.39492453,\n",
       "       229145.98251959, 229640.92982835, 230117.07826682, 230574.27531435,\n",
       "       231012.37463341, 231431.2360134 , 231830.72518932, 232210.71459092,\n",
       "       232571.08318434, 232911.71654582, 233232.50695133, 233533.35346328,\n",
       "       233814.16189914, 234074.84457849, 234315.32098293, 234535.5176172 ,\n",
       "       234735.3680354 , 234914.81289306, 235073.7999954 , 235212.28427736,\n",
       "       235330.22754441, 235427.59895844, 235504.37493613, 235560.53912858,\n",
       "       235596.08243288, 235611.00299908, 235605.30620503, 235579.00445045,\n",
       "       235532.11741704, 235464.67200015, 235376.7022515 , 235268.24934967,\n",
       "       235139.36156554, 234990.09421704, 234820.50955586, 234630.67679561,\n",
       "       234420.67204967, 234190.5782536 , 233940.48509694, 233670.4889496 ,\n",
       "       233380.69278633])"
      ]
     },
     "execution_count": 58,
     "metadata": {},
     "output_type": "execute_result"
    }
   ],
   "source": [
    "fitted"
   ]
  },
  {
   "cell_type": "code",
   "execution_count": 59,
   "metadata": {},
   "outputs": [
    {
     "data": {
      "image/png": "[encoded data removed]",
      "text/plain": [
       "<Figure size 1152x648 with 1 Axes>"
      ]
     },
     "metadata": {},
     "output_type": "display_data"
    },
    {
     "name": "stdout",
     "output_type": "stream",
     "text": [
      "Optimal parameters: beta = 0.18163346079420142  and gamma =  0.17130679039738228\n",
      "Basic Reproduction Number R0  1.060281734149967\n",
      "This ratio is derived as the expected number of new infections (these new infections are sometimes called secondary infections from a single infection in a population where all subjects are susceptible. @wiki\n"
     ]
    }
   ],
   "source": [
    "plt.semilogy(t, ydata, 'o')\n",
    "plt.semilogy(t, fitted)\n",
    "plt.title(\"Fit of SIR model for Germany cases\")\n",
    "plt.ylabel(\"Population infected\")\n",
    "plt.xlabel(\"Days\")\n",
    "plt.show()\n",
    "print(\"Optimal parameters: beta =\", popt[0], \" and gamma = \", popt[1])\n",
    "print(\"Basic Reproduction Number R0 \" , popt[0]/ popt[1])\n",
    "print(\"This ratio is derived as the expected number of new infections (these new infections are sometimes called secondary infections from a single infection in a population where all subjects are susceptible. @wiki\")"
   ]
  },
  {
   "cell_type": "markdown",
   "metadata": {},
   "source": [
    "## Dynamic beta in SIR (infection rate)"
   ]
  },
  {
   "cell_type": "code",
   "execution_count": 60,
   "metadata": {},
   "outputs": [],
   "source": [
    "t_initial=28\n",
    "t_intro_measures=14\n",
    "t_hold=21\n",
    "t_relax=21\n",
    "\n",
    "beta_max=0.4\n",
    "beta_min=0.11\n",
    "gamma=0.1\n",
    "pd_beta=np.concatenate((np.array(t_initial*[beta_max]),\n",
    "                       np.linspace(beta_max,beta_min,t_intro_measures),\n",
    "                       np.array(t_hold*[beta_min]),\n",
    "                       np.linspace(beta_min,beta_max,t_relax),\n",
    "                       ))\n"
   ]
  },
  {
   "cell_type": "code",
   "execution_count": 61,
   "metadata": {},
   "outputs": [
    {
     "data": {
      "text/plain": [
       "array([0.4       , 0.4       , 0.4       , 0.4       , 0.4       ,\n",
       "       0.4       , 0.4       , 0.4       , 0.4       , 0.4       ,\n",
       "       0.4       , 0.4       , 0.4       , 0.4       , 0.4       ,\n",
       "       0.4       , 0.4       , 0.4       , 0.4       , 0.4       ,\n",
       "       0.4       , 0.4       , 0.4       , 0.4       , 0.4       ,\n",
       "       0.4       , 0.4       , 0.4       , 0.4       , 0.37769231,\n",
       "       0.35538462, 0.33307692, 0.31076923, 0.28846154, 0.26615385,\n",
       "       0.24384615, 0.22153846, 0.19923077, 0.17692308, 0.15461538,\n",
       "       0.13230769, 0.11      , 0.11      , 0.11      , 0.11      ,\n",
       "       0.11      , 0.11      , 0.11      , 0.11      , 0.11      ,\n",
       "       0.11      , 0.11      , 0.11      , 0.11      , 0.11      ,\n",
       "       0.11      , 0.11      , 0.11      , 0.11      , 0.11      ,\n",
       "       0.11      , 0.11      , 0.11      , 0.11      , 0.1245    ,\n",
       "       0.139     , 0.1535    , 0.168     , 0.1825    , 0.197     ,\n",
       "       0.2115    , 0.226     , 0.2405    , 0.255     , 0.2695    ,\n",
       "       0.284     , 0.2985    , 0.313     , 0.3275    , 0.342     ,\n",
       "       0.3565    , 0.371     , 0.3855    , 0.4       ])"
      ]
     },
     "execution_count": 61,
     "metadata": {},
     "output_type": "execute_result"
    }
   ],
   "source": [
    "pd_beta"
   ]
  },
  {
   "cell_type": "code",
   "execution_count": 62,
   "metadata": {},
   "outputs": [],
   "source": [
    "SIR=np.array([S0,I0,R0])\n",
    "propagation_rates=pd.DataFrame(columns={'susceptible':S0,\n",
    "                                        'infected':I0,\n",
    "                                        'recoverd':R0})\n",
    "\n",
    "\n",
    "\n",
    "for each_beta in pd_beta:\n",
    "   \n",
    "    new_delta_vec=SIR_model(SIR,each_beta,gamma)\n",
    "   \n",
    "    SIR=SIR+new_delta_vec\n",
    "    \n",
    "    propagation_rates=propagation_rates.append({'susceptible':SIR[0],\n",
    "                                                'infected':SIR[1],\n",
    "                                                'recovered':SIR[2]}, ignore_index=True)"
   ]
  },
  {
   "cell_type": "code",
   "execution_count": 63,
   "metadata": {},
   "outputs": [
    {
     "data": {
      "image/png": "[encoded data removed]",
      "text/plain": [
       "<Figure size 1152x648 with 1 Axes>"
      ]
     },
     "metadata": {},
     "output_type": "display_data"
    }
   ],
   "source": [
    "fig, ax1 = plt.subplots(1, 1)\n",
    "\n",
    "ax1.plot(propagation_rates.index,propagation_rates.infected,label='infected',linewidth=3)\n",
    "#ax1.plot(propagation_rates.index,propagation_rates.recovered,label='recovered')\n",
    "#ax1.plot(propagation_rates.index,propagation_rates.susceptible,label='susceptible')\n",
    "\n",
    "t_phases=np.array([t_initial,t_intro_measures,t_hold,t_relax]).cumsum()\n",
    "\n",
    "ax1.bar(np.arange(len(ydata)),ydata, width=0.8,label=' current infected Germany',color='r')\n",
    "ax1.axvspan(0,t_phases[0], facecolor='b', alpha=0.2,label='no measures')\n",
    "ax1.axvspan(t_phases[0],t_phases[1], facecolor='b', alpha=0.3,label='hard measures introduced')\n",
    "ax1.axvspan(t_phases[1],t_phases[2], facecolor='b', alpha=0.4,label='hold measures')\n",
    "ax1.axvspan(t_phases[2],t_phases[3], facecolor='b', alpha=0.5,label='relax measures')\n",
    "ax1.axvspan(t_phases[3],len(propagation_rates.infected), facecolor='b', alpha=0.6,label='repeat hard measures')\n",
    "\n",
    "\n",
    "\n",
    "ax1.set_ylim(10, 1.5*max(propagation_rates.infected))\n",
    "ax1.set_yscale('log')\n",
    "ax1.set_title('Scenario SIR simulations  (demonstration purposes only)',size=16)\n",
    "ax1.set_xlabel('time in days',size=16)\n",
    "ax1.legend(loc='best',\n",
    "           prop={'size': 16});"
   ]
  },
  {
   "cell_type": "code",
   "execution_count": 64,
   "metadata": {},
   "outputs": [
    {
     "data": {
      "text/plain": [
       "array([28, 42, 63, 84], dtype=int32)"
      ]
     },
     "execution_count": 64,
     "metadata": {},
     "output_type": "execute_result"
    }
   ],
   "source": [
    "t_phases"
   ]
  },
  {
   "cell_type": "code",
   "execution_count": null,
   "metadata": {},
   "outputs": [],
   "source": []
  }
 ],
 "metadata": {
  "kernelspec": {
   "display_name": "Python 3",
   "language": "python",
   "name": "python3"
  },
  "language_info": {
   "codemirror_mode": {
    "name": "ipython",
    "version": 3
   },
   "file_extension": ".py",
   "mimetype": "text/x-python",
   "name": "python",
   "nbconvert_exporter": "python",
   "pygments_lexer": "ipython3",
   "version": "3.8.3"
  }
 },
 "nbformat": 4,
 "nbformat_minor": 4
}
