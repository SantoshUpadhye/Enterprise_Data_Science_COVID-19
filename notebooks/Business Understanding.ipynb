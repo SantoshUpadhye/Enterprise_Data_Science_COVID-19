{
 "cells": [
  {
   "cell_type": "code",
   "execution_count": 2,
   "metadata": {},
   "outputs": [
    {
     "name": "stdout",
     "output_type": "stream",
     "text": [
      " Volume in drive C is OS\n",
      " Volume Serial Number is FCC6-7B8D\n",
      "\n",
      " Directory of C:\\ProgramData\\Anaconda3\\eps_covid19\\notebooks\n",
      "\n",
      "26-08-2020  13:37    <DIR>          .\n",
      "26-08-2020  13:37    <DIR>          ..\n",
      "26-07-2020  22:03                 0 .gitkeep\n",
      "26-08-2020  13:37    <DIR>          .ipynb_checkpoints\n",
      "07-08-2020  12:24             3,287 Business Understanding.ipynb\n",
      "26-07-2020  20:48            82,801 Crisp_DM_Tasks.png\n",
      "26-07-2020  20:43            55,072 CRISP-DM_Process_1000x600.jpg\n",
      "19-08-2020  16:03            44,046 Data_Preparation_Large_File_V1.1-Copy1.ipynb\n",
      "07-08-2020  13:13           227,532 Data_Preparation-V1.0.ipynb\n",
      "19-08-2020  14:10           176,270 Data_Understanding_EDA.ipynb\n",
      "19-08-2020  11:17           403,426 Data_Understanding-V1.0.ipynb\n",
      "09-08-2020  16:53            20,541 Evaluation_Walkthrough.ipynb\n",
      "09-08-2020  16:53           444,725 Modeling_Forecast_Facebook_Prophet.ipynb\n",
      "06-08-2020  00:45         3,775,432 Modeling_Spread_V-1.0.ipynb\n",
      "19-08-2020  13:31           953,808 Modeling_Spread_V-1.8.ipynb\n",
      "09-08-2020  00:09           175,371 Overfitting.ipynb\n",
      "09-08-2020  16:53           197,478 SIR_Modeling.ipynb\n",
      "              14 File(s)      6,559,789 bytes\n",
      "               3 Dir(s)  45,816,393,728 bytes free\n"
     ]
    }
   ],
   "source": [
    "%ls"
   ]
  },
  {
   "cell_type": "markdown",
   "metadata": {},
   "source": [
    "![CRISP_DM](Crisp_DM_Tasks.png)"
   ]
  },
  {
   "cell_type": "markdown",
   "metadata": {},
   "source": [
    "# Business Understanding"
   ]
  },
  {
   "cell_type": "markdown",
   "metadata": {},
   "source": [
    "We would like to track Corono Virus spread across countries and with personal local information\n",
    "\n",
    "The general information is not so relevant for us, so we would like to dive deep into local development of the spread."
   ]
  },
  {
   "cell_type": "code",
   "execution_count": null,
   "metadata": {},
   "outputs": [],
   "source": []
  },
  {
   "cell_type": "markdown",
   "metadata": {},
   "source": [
    "### Goals"
   ]
  },
  {
   "cell_type": "markdown",
   "metadata": {},
   "source": [
    "* we would like to understand the data quality\n",
    "* everything should be automated as much as possible:\n",
    "    how many clicks do we need to execute the full pipeline"
   ]
  },
  {
   "cell_type": "markdown",
   "metadata": {},
   "source": [
    "### Constraints:\n",
    "   * Each notebook should be left clean and ready  for full execution"
   ]
  },
  {
   "cell_type": "code",
   "execution_count": null,
   "metadata": {},
   "outputs": [],
   "source": []
  },
  {
   "cell_type": "code",
   "execution_count": null,
   "metadata": {},
   "outputs": [],
   "source": []
  }
 ],
 "metadata": {
  "kernelspec": {
   "display_name": "Python 3",
   "language": "python",
   "name": "python3"
  },
  "language_info": {
   "codemirror_mode": {
    "name": "ipython",
    "version": 3
   },
   "file_extension": ".py",
   "mimetype": "text/x-python",
   "name": "python",
   "nbconvert_exporter": "python",
   "pygments_lexer": "ipython3",
   "version": "3.8.3"
  }
 },
 "nbformat": 4,
 "nbformat_minor": 2
}
