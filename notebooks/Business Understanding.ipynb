{
 "cells": [
  {
   "cell_type": "code",
   "execution_count": 1,
   "metadata": {},
   "outputs": [
    {
     "name": "stdout",
     "output_type": "stream",
     "text": [
      " Volume in drive C is OS\n",
      " Volume Serial Number is FCC6-7B8D\n",
      "\n",
      " Directory of C:\\ProgramData\\Anaconda3\\eps_covid19\\notebooks\n",
      "\n",
      "14-09-2020  20:02    <DIR>          .\n",
      "14-09-2020  20:02    <DIR>          ..\n",
      "26-07-2020  22:03                 0 .gitkeep\n",
      "13-09-2020  22:04    <DIR>          .ipynb_checkpoints\n",
      "14-09-2020  20:02             3,506 Business Understanding.ipynb\n",
      "26-07-2020  20:48            82,801 Crisp_DM_Tasks.png\n",
      "26-07-2020  20:43            55,072 CRISP-DM_Process_1000x600.jpg\n",
      "14-09-2020  12:54            43,630 Data_Preparation_Large_File_V1.1.ipynb\n",
      "14-09-2020  13:00           110,423 Data_Preparation-V1.0.ipynb\n",
      "14-09-2020  13:06         3,696,100 Data_Understanding_EDA.ipynb\n",
      "14-09-2020  19:59            60,198 Data_Understanding-V1.0.ipynb\n",
      "13-09-2020  22:33            19,329 Evaluation_Walkthrough.ipynb\n",
      "14-09-2020  19:59            32,105 Evaluation_Walkthrough_V2.0_(with_SIR_model).ipynb\n",
      "14-09-2020  19:59         3,904,252 Modeling_Forecast_Facebook_Prophet.ipynb\n",
      "14-09-2020  19:59         3,825,602 Modeling_Spread_V-1.0.ipynb\n",
      "14-09-2020  19:59         4,614,325 Modeling_Spread_V-1.8.ipynb\n",
      "13-09-2020  21:43        14,776,287 N0I0S0_V2.0.ipynb\n",
      "10-09-2020  00:08           418,805 N0I0S0-Copy1.ipynb\n",
      "13-09-2020  17:26           881,054 notebooks.rar\n",
      "14-09-2020  12:51         3,689,702 Overfitting.ipynb\n",
      "13-09-2020  03:37        15,926,665 SIR_Model_(Dash_Trail)_V3.0.ipynb\n",
      "14-09-2020  12:48           388,552 SIR_Model_Small_Flat_Table_Final.ipynb\n",
      "14-09-2020  12:50           623,863 SIR_Model_V3.0_Final.ipynb\n",
      "14-09-2020  12:50           209,529 SIR_Modeling.ipynb\n",
      "06-09-2020  18:08           201,323 SIR_Modeling-Figuring_Out.ipynb\n",
      "13-09-2020  18:43         5,813,467 World_Population_Data_Preparation_V1.0.ipynb\n",
      "14-09-2020  12:48            32,278 World_Population_Data_Preparation_V2.0_Final.ipynb\n",
      "13-09-2020  18:41         5,368,495 World_Population_Data_Understanding_V1.0.ipynb\n",
      "              25 File(s)     64,777,363 bytes\n",
      "               3 Dir(s)  52,481,024,000 bytes free\n"
     ]
    }
   ],
   "source": [
    "%ls"
   ]
  },
  {
   "cell_type": "markdown",
   "metadata": {},
   "source": [
    "![CRISP_DM](Crisp_DM_Tasks.png)"
   ]
  },
  {
   "cell_type": "markdown",
   "metadata": {},
   "source": [
    "# Business Understanding"
   ]
  },
  {
   "cell_type": "markdown",
   "metadata": {},
   "source": [
    "We would like to track Corono Virus spread across countries and with personal local information\n",
    "\n",
    "The general information is not so relevant for us, so we would like to dive deep into local development of the spread."
   ]
  },
  {
   "cell_type": "code",
   "execution_count": null,
   "metadata": {},
   "outputs": [],
   "source": []
  },
  {
   "cell_type": "markdown",
   "metadata": {},
   "source": [
    "### Goals"
   ]
  },
  {
   "cell_type": "markdown",
   "metadata": {},
   "source": [
    "* we would like to understand the data quality\n",
    "* everything should be automated as much as possible:\n",
    "    how many clicks do we need to execute the full pipeline"
   ]
  },
  {
   "cell_type": "markdown",
   "metadata": {},
   "source": [
    "### Constraints:\n",
    "   * Each notebook should be left clean and ready  for full execution"
   ]
  },
  {
   "cell_type": "code",
   "execution_count": null,
   "metadata": {},
   "outputs": [],
   "source": []
  },
  {
   "cell_type": "code",
   "execution_count": null,
   "metadata": {},
   "outputs": [],
   "source": []
  }
 ],
 "metadata": {
  "kernelspec": {
   "display_name": "Python 3",
   "language": "python",
   "name": "python3"
  },
  "language_info": {
   "codemirror_mode": {
    "name": "ipython",
    "version": 3
   },
   "file_extension": ".py",
   "mimetype": "text/x-python",
   "name": "python",
   "nbconvert_exporter": "python",
   "pygments_lexer": "ipython3",
   "version": "3.8.3"
  }
 },
 "nbformat": 4,
 "nbformat_minor": 2
}
